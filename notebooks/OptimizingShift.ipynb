{
 "cells": [
  {
   "cell_type": "code",
   "execution_count": 1,
   "metadata": {},
   "outputs": [],
   "source": [
    "%load_ext autoreload\n",
    "%autoreload 2\n",
    "import os\n",
    "import torch\n",
    "import argparse\n",
    "import matplotlib.pyplot as plt\n",
    "import sys\n",
    "sys.path.append('../')\n",
<<<<<<< HEAD
    "from models.shiftnet_model import ShiftNetModel\n",
=======
    "from models.accelerated_shift_net.accelerated_InnerShiftTriple import AcceleratedInnerShiftTriple\n",
>>>>>>> 439453a204adc778d810b527372b3bc8f5da692d
    "from options.train_options import TrainOptions \n"
   ]
  },
  {
   "cell_type": "markdown",
   "metadata": {},
   "source": [
    "# CREATE DEFAULT OPTIONS TO INITIALIZE THE SHIFTMODEL"
   ]
  },
  {
   "cell_type": "code",
   "execution_count": 2,
   "metadata": {},
   "outputs": [],
   "source": [
    "dataroot = '/mnt/hdd2/AIM/DAGM/Class4_def/' # ENTER HERE THE PATH YOU WANT TO USE AS DATAROOT\n",
    "options = '--dataroot {}'.format(dataroot).split(' ')"
   ]
  },
  {
   "cell_type": "code",
   "execution_count": 3,
   "metadata": {},
   "outputs": [],
   "source": [
    "def get_parser(options=None):\n",
    "    parser = TrainOptions()\n",
    "    parser.parse(options=options)\n",
    "    return parser"
   ]
  },
  {
   "cell_type": "code",
   "execution_count": 4,
   "metadata": {},
   "outputs": [
    {
     "name": "stdout",
     "output_type": "stream",
     "text": [
      "----------------- Options ---------------\n",
      "                batchSize: 1                             \n",
      "                    beta1: 0.5                           \n",
      "               bottleneck: 512                           \n",
      "          checkpoints_dir: /mnt/hdd2/AIM/checks          \n",
      "                constrain: MSE                           \n",
      "           continue_train: False                         \n",
<<<<<<< HEAD
      "                 dataroot: /mnt/hdd2/AIM/DAGM/Class4_def/\t[default: /mnt/hdd2/AIM/DAGM/Class3]\n",
=======
      "                 dataroot: /mnt/hdd2/AIM/DAGM/Class4_def/\t[default: /mnt/hdd2/AIM/DAGM/Class5]\n",
>>>>>>> 439453a204adc778d810b527372b3bc8f5da692d
      "             dataset_mode: aligned_resized               \n",
      "             display_freq: 10                            \n",
      "               display_id: 1                             \n",
      "            display_ncols: 4                             \n",
      "             display_port: 8097                          \n",
      "           display_server: http://localhost              \n",
      "display_single_pane_ncols: 0                             \n",
      "          display_winsize: 256                           \n",
      "              epoch_count: 1                             \n",
      "                 fineSize: 256                           \n",
<<<<<<< HEAD
      "               fixed_mask: 1                             \n",
      "                 gan_type: vanilla                       \n",
      "               gan_weight: 0.2                           \n",
      "                gp_lambda: 10.0                          \n",
      "                  gpu_ids: 1                             \n",
=======
      "               fixed_mask: 0                             \n",
      "                 gan_type: vanilla                       \n",
      "               gan_weight: 0.2                           \n",
      "                gp_lambda: 10.0                          \n",
      "                  gpu_ids: 3                             \n",
>>>>>>> 439453a204adc778d810b527372b3bc8f5da692d
      "                init_gain: 0.02                          \n",
      "                init_type: normal                        \n",
      "                 input_nc: 3                             \n",
      "                  isTrain: True                          \t[default: None]\n",
      "                 lambda_A: 100                           \n",
      "                 loadSize: 350                           \n",
      "                       lr: 0.0002                        \n",
      "           lr_decay_iters: 50                            \n",
      "                lr_policy: lambda                        \n",
<<<<<<< HEAD
      "            mask_sub_type: island                        \n",
=======
      "            mask_sub_type: rect                          \n",
>>>>>>> 439453a204adc778d810b527372b3bc8f5da692d
      "               mask_thred: 1                             \n",
      "                mask_type: random                        \n",
      "         max_dataset_size: inf                           \n",
      "                    model: accelerated_shiftnet          \n",
      "                 nThreads: 2                             \n",
      "               n_layers_D: 3                             \n",
<<<<<<< HEAD
      "                     name: class3_1                      \n",
=======
      "                     name: class5_7                      \n",
>>>>>>> 439453a204adc778d810b527372b3bc8f5da692d
      "                  ncritic: 5                             \n",
      "                      ndf: 64                            \n",
      "                      ngf: 64                            \n",
      "                    niter: 1000                          \n",
      "              niter_decay: 0                             \n",
      "                  no_flip: False                         \n",
      "                  no_html: False                         \n",
      "                     norm: instance                      \n",
      "                output_nc: 3                             \n",
      "                  overlap: 4                             \n",
      "                    phase: train                         \n",
      "               print_freq: 50                            \n",
      "           resize_or_crop: resize_and_crop               \n",
      "          save_epoch_freq: 2                             \n",
      "         save_latest_freq: 5000                          \n",
      "           serial_batches: False                         \n",
      "                 shift_sz: 1                             \n",
      "                     skip: 0                             \n",
      "                 strength: 1                             \n",
      "                   stride: 1                             \n",
      "                   suffix:                               \n",
      "                threshold: 0.3125                        \n",
      "            triple_weight: 1                             \n",
      "         update_html_freq: 1000                          \n",
      "              use_dropout: False                         \n",
      "                  verbose: False                         \n",
      "              which_epoch: latest                        \n",
<<<<<<< HEAD
      "         which_model_netD: basic                         \n",
=======
      "         which_model_netD: densenet                      \n",
>>>>>>> 439453a204adc778d810b527372b3bc8f5da692d
      "         which_model_netG: acc_unet_shift_triple         \n",
      "----------------- End -------------------\n"
     ]
    }
   ],
   "source": [
    "parser = get_parser(options=options)"
   ]
  },
  {
   "cell_type": "markdown",
   "metadata": {},
   "source": [
    "# CREATE INNER_SHIFT_TRIPLE LAYER"
   ]
  },
  {
   "cell_type": "code",
   "execution_count": 5,
   "metadata": {},
   "outputs": [],
   "source": [
<<<<<<< HEAD
    "from models.InnerShiftTriple import InnerShiftTriple"
=======
    "#from models.InnerShiftTriple import InnerShiftTriple"
>>>>>>> 439453a204adc778d810b527372b3bc8f5da692d
   ]
  },
  {
   "cell_type": "code",
   "execution_count": 6,
   "metadata": {},
   "outputs": [],
   "source": [
    "opt = parser.opt\n",
    "#opt"
   ]
  },
  {
   "cell_type": "code",
   "execution_count": 7,
   "metadata": {},
   "outputs": [],
   "source": [
<<<<<<< HEAD
    "inner_shift_triple = InnerShiftTriple(opt.threshold, opt.fixed_mask)"
=======
    "inner_shift_triple = AcceleratedInnerShiftTriple(opt.threshold, opt.fixed_mask)"
>>>>>>> 439453a204adc778d810b527372b3bc8f5da692d
   ]
  },
  {
   "cell_type": "code",
   "execution_count": 8,
   "metadata": {},
   "outputs": [
    {
     "data": {
      "text/plain": [
<<<<<<< HEAD
       "InnerShiftTriple(threshold: 0.3125 ,triple_weight 1)"
=======
       "AcceleratedInnerShiftTriple(threshold: 0.3125 ,triple_weight 1)"
>>>>>>> 439453a204adc778d810b527372b3bc8f5da692d
      ]
     },
     "execution_count": 8,
     "metadata": {},
     "output_type": "execute_result"
    }
   ],
   "source": [
    "inner_shift_triple.cuda()"
   ]
  },
  {
   "cell_type": "markdown",
   "metadata": {},
   "source": [
    "# EVALUE SPEED FORWARD"
   ]
  },
  {
   "cell_type": "markdown",
   "metadata": {},
   "source": [
    "### THE SIZE OF THE INPUT TENSOR IS (BATCH_SIZE, 256 * 2 (former | latter), 32, 32). LET CREATE A RANDOM TENSORS AND EVALUTE ITS FORWARD FIRST"
   ]
  },
  {
   "cell_type": "code",
   "execution_count": 9,
   "metadata": {},
   "outputs": [
    {
     "data": {
      "text/plain": [
       "True"
      ]
     },
     "execution_count": 9,
     "metadata": {},
     "output_type": "execute_result"
    }
   ],
   "source": [
    "import numpy as np\n",
    "torch.cuda.is_available()"
   ]
  },
  {
<<<<<<< HEAD
   "cell_type": "code",
   "execution_count": 10,
   "metadata": {},
   "outputs": [],
   "source": [
    "x_np = np.random.normal(0, 1, (1, 512, 32, 32))"
   ]
  },
  {
   "cell_type": "code",
   "execution_count": 11,
   "metadata": {},
   "outputs": [],
   "source": [
    "x_tr = torch.FloatTensor(x_np)"
   ]
  },
  {
=======
>>>>>>> 439453a204adc778d810b527372b3bc8f5da692d
   "cell_type": "markdown",
   "metadata": {},
   "source": [
    "### NOW WE NEED TO SET UP THE MASK"
   ]
  },
  {
   "cell_type": "code",
   "execution_count": 12,
   "metadata": {},
   "outputs": [
    {
     "data": {
      "text/plain": [
<<<<<<< HEAD
       "<matplotlib.image.AxesImage at 0x7fa0c88b02b0>"
=======
       "<matplotlib.image.AxesImage at 0x7ff2b0116240>"
>>>>>>> 439453a204adc778d810b527372b3bc8f5da692d
      ]
     },
     "execution_count": 12,
     "metadata": {},
     "output_type": "execute_result"
    },
    {
     "data": {
      "image/png": "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\n",
      "text/plain": [
       "<Figure size 432x288 with 1 Axes>"
      ]
     },
     "metadata": {
      "needs_background": "light"
     },
     "output_type": "display_data"
    }
   ],
   "source": [
    "c, h, w = (1, 256, 256)\n",
    "hh = h//2\n",
    "wh = w//2\n",
    "hm_size = 32\n",
    "mask = np.zeros((1, c, h, w))\n",
    "mask[..., hh - hm_size:hh + hm_size, wh - hm_size:wh + hm_size] = 1\n",
<<<<<<< HEAD
=======
    "#mask[..., h - hh:, :] = 1\n",
>>>>>>> 439453a204adc778d810b527372b3bc8f5da692d
    "mask_global=torch.ByteTensor(mask).cuda()#.cpu()\n",
    "plt.imshow(np.squeeze(mask))"
   ]
  },
  {
   "cell_type": "code",
<<<<<<< HEAD
   "execution_count": 16,
=======
   "execution_count": 13,
>>>>>>> 439453a204adc778d810b527372b3bc8f5da692d
   "metadata": {},
   "outputs": [
    {
     "data": {
      "text/plain": [
       "tensor([[0, 0, 0,  ..., 0, 0, 0],\n",
       "        [0, 0, 0,  ..., 0, 0, 0],\n",
       "        [0, 0, 0,  ..., 0, 0, 0],\n",
       "        ...,\n",
       "        [0, 0, 0,  ..., 0, 0, 0],\n",
       "        [0, 0, 0,  ..., 0, 0, 0],\n",
<<<<<<< HEAD
       "        [0, 0, 0,  ..., 0, 0, 0]], device='cuda:1', dtype=torch.uint8)"
      ]
     },
     "execution_count": 16,
=======
       "        [0, 0, 0,  ..., 0, 0, 0]], device='cuda:3', dtype=torch.uint8)"
      ]
     },
     "execution_count": 13,
>>>>>>> 439453a204adc778d810b527372b3bc8f5da692d
     "metadata": {},
     "output_type": "execute_result"
    }
   ],
   "source": [
    "inner_shift_triple.set_mask(mask_global=mask_global, threshold=opt.threshold, layer_to_last=3)"
   ]
  },
  {
   "cell_type": "code",
<<<<<<< HEAD
   "execution_count": 17,
   "metadata": {},
   "outputs": [],
   "source": [
    "x_np = np.random.normal(0, 1, (1, 512, 32, 32))"
=======
   "execution_count": 100,
   "metadata": {},
   "outputs": [],
   "source": [
    "x_np = np.random.normal(0, 1, (1, 256, 32, 32))\n",
    "x_tr = torch.FloatTensor(x_np)"
>>>>>>> 439453a204adc778d810b527372b3bc8f5da692d
   ]
  },
  {
   "cell_type": "code",
<<<<<<< HEAD
   "execution_count": 18,
   "metadata": {},
   "outputs": [
    {
     "name": "stdout",
     "output_type": "stream",
     "text": [
      "patches_part torch.Size([960, 256, 1, 1])\n",
      "target_patches torch.Size([960, 256, 1, 1])\n",
      "target_patches torch.Size([1024, 256, 1, 1])\n",
      "torch.Size([1, 32, 32])\n",
      "tensor([697,  38,   4,  ..., 115, 526, 614], device='cuda:1')\n",
      "CPU times: user 580 ms, sys: 36 ms, total: 616 ms\n",
      "Wall time: 613 ms\n"
=======
   "execution_count": null,
   "metadata": {},
   "outputs": [],
   "source": [
    "%timeit output = inner_shift_triple(x_tr.cuda())\n",
    "#output = inner_shift_triple(x_tr.cuda())\n",
    "#flag, indexes, ind_lst = inner_shift_triple(x_tr.cuda())"
   ]
  },
  {
   "cell_type": "code",
   "execution_count": 20,
   "metadata": {},
   "outputs": [
    {
     "name": "stderr",
     "output_type": "stream",
     "text": [
      "[autoreload of models.accelerated_shift_net.accelerated_InnerShiftTripleFunction failed: Traceback (most recent call last):\n",
      "  File \"/home/tchaton/virtualenvs/labelbox/lib/python3.6/site-packages/IPython/extensions/autoreload.py\", line 244, in check\n",
      "    superreload(m, reload, self.old_objects)\n",
      "  File \"/home/tchaton/virtualenvs/labelbox/lib/python3.6/site-packages/IPython/extensions/autoreload.py\", line 392, in superreload\n",
      "    update_generic(old_obj, new_obj)\n",
      "  File \"/home/tchaton/virtualenvs/labelbox/lib/python3.6/site-packages/IPython/extensions/autoreload.py\", line 329, in update_generic\n",
      "    update(a, b)\n",
      "  File \"/home/tchaton/virtualenvs/labelbox/lib/python3.6/site-packages/IPython/extensions/autoreload.py\", line 287, in update_class\n",
      "    if update_generic(old_obj, new_obj): continue\n",
      "  File \"/home/tchaton/virtualenvs/labelbox/lib/python3.6/site-packages/IPython/extensions/autoreload.py\", line 329, in update_generic\n",
      "    update(a, b)\n",
      "  File \"/home/tchaton/virtualenvs/labelbox/lib/python3.6/site-packages/IPython/extensions/autoreload.py\", line 287, in update_class\n",
      "    if update_generic(old_obj, new_obj): continue\n",
      "  File \"/home/tchaton/virtualenvs/labelbox/lib/python3.6/site-packages/IPython/extensions/autoreload.py\", line 329, in update_generic\n",
      "    update(a, b)\n",
      "  File \"/home/tchaton/virtualenvs/labelbox/lib/python3.6/site-packages/IPython/extensions/autoreload.py\", line 287, in update_class\n",
      "    if update_generic(old_obj, new_obj): continue\n",
      "  File \"/home/tchaton/virtualenvs/labelbox/lib/python3.6/site-packages/IPython/extensions/autoreload.py\", line 329, in update_generic\n",
      "    update(a, b)\n",
      "  File \"/home/tchaton/virtualenvs/labelbox/lib/python3.6/site-packages/IPython/extensions/autoreload.py\", line 287, in update_class\n",
      "    if update_generic(old_obj, new_obj): continue\n",
      "RecursionError: maximum recursion depth exceeded\n",
      "]\n"
     ]
    },
    {
     "ename": "NameError",
     "evalue": "name 'ind_lst' is not defined",
     "output_type": "error",
     "traceback": [
      "\u001b[0;31m---------------------------------------------------------------------------\u001b[0m",
      "\u001b[0;31mNameError\u001b[0m                                 Traceback (most recent call last)",
      "\u001b[0;32m<ipython-input-20-1b317a9099bd>\u001b[0m in \u001b[0;36m<module>\u001b[0;34m\u001b[0m\n\u001b[0;32m----> 1\u001b[0;31m \u001b[0mind_lst\u001b[0m\u001b[0;34m[\u001b[0m\u001b[0mtuple\u001b[0m\u001b[0;34m(\u001b[0m\u001b[0;34m(\u001b[0m\u001b[0mflag\u001b[0m\u001b[0;34m,\u001b[0m \u001b[0mindexes\u001b[0m\u001b[0;34m)\u001b[0m\u001b[0;34m)\u001b[0m\u001b[0;34m]\u001b[0m \u001b[0;34m=\u001b[0m \u001b[0;36m1\u001b[0m\u001b[0;34m\u001b[0m\u001b[0m\n\u001b[0m",
      "\u001b[0;31mNameError\u001b[0m: name 'ind_lst' is not defined"
>>>>>>> 439453a204adc778d810b527372b3bc8f5da692d
     ]
    }
   ],
   "source": [
<<<<<<< HEAD
    "%time output = inner_shift_triple.forward(x_tr.cuda())"
=======
    "ind_lst[tuple((flag, indexes))] = 1"
>>>>>>> 439453a204adc778d810b527372b3bc8f5da692d
   ]
  },
  {
   "cell_type": "code",
<<<<<<< HEAD
   "execution_count": 849,
=======
   "execution_count": 51,
>>>>>>> 439453a204adc778d810b527372b3bc8f5da692d
   "metadata": {},
   "outputs": [
    {
     "data": {
      "text/plain": [
<<<<<<< HEAD
       "torch.Size([1, 768, 32, 32])"
      ]
     },
     "execution_count": 849,
=======
       "tensor(64)"
      ]
     },
     "execution_count": 51,
>>>>>>> 439453a204adc778d810b527372b3bc8f5da692d
     "metadata": {},
     "output_type": "execute_result"
    }
   ],
   "source": [
<<<<<<< HEAD
    "output.shape"
=======
    "torch.sum(ind_lst)"
>>>>>>> 439453a204adc778d810b527372b3bc8f5da692d
   ]
  },
  {
   "cell_type": "code",
<<<<<<< HEAD
   "execution_count": 850,
   "metadata": {},
   "outputs": [],
   "source": [
    "# It is not as bad as what I was thinking"
=======
   "execution_count": null,
   "metadata": {},
   "outputs": [],
   "source": []
  },
  {
   "cell_type": "code",
   "execution_count": 593,
   "metadata": {},
   "outputs": [],
   "source": [
    "x = torch.FloatTensor(np.array(range(1024)))"
>>>>>>> 439453a204adc778d810b527372b3bc8f5da692d
   ]
  },
  {
   "cell_type": "code",
<<<<<<< HEAD
   "execution_count": 19,
   "metadata": {},
   "outputs": [],
   "source": [
    "from util import util\n",
    "import torch.nn.functional as F"
=======
   "execution_count": null,
   "metadata": {},
   "outputs": [],
   "source": []
  },
  {
   "cell_type": "code",
   "execution_count": 594,
   "metadata": {},
   "outputs": [],
   "source": [
    "transition_matrx = torch.zeros((1024, 1024))"
>>>>>>> 439453a204adc778d810b527372b3bc8f5da692d
   ]
  },
  {
   "cell_type": "code",
<<<<<<< HEAD
   "execution_count": 20,
   "metadata": {},
   "outputs": [],
   "source": [
    "def create_random_mask(opt):\n",
    "    gMask_opts = {}\n",
    "    mask_global = torch.ByteTensor(1, 1, \\\n",
    "                                 opt.fineSize, opt.fineSize)\n",
    "\n",
    "        # Here we need to set an artificial mask_global(not to make it broken, so center hole is ok.)\n",
    "    mask_global.zero_()\n",
    "    mask_global[:, :, int(opt.fineSize/4) + opt.overlap : int(opt.fineSize/2) + int(opt.fineSize/4) - opt.overlap,\\\n",
    "                                int(opt.fineSize/4) + opt.overlap: int(opt.fineSize/2) + int(opt.fineSize/4) - opt.overlap] = 1  \n",
    "    \n",
    "    res = 0.06 # the lower it is, the more continuous the output will be. 0.01 is too small and 0.1 is too large\n",
    "    density = 0.25\n",
    "    MAX_SIZE = 300\n",
    "    maxPartition = 30\n",
    "    low_pattern = torch.rand(1, 1, int(res*MAX_SIZE), int(res*MAX_SIZE)).mul(255)\n",
    "    pattern = F.upsample(low_pattern, (MAX_SIZE, MAX_SIZE), mode='bilinear').data\n",
    "    low_pattern = None\n",
    "    pattern.div_(255)\n",
    "    pattern = torch.lt(pattern,density).byte()  # 25% 1s and 75% 0s\n",
    "    pattern = torch.squeeze(pattern).byte()\n",
    "    gMask_opts['pattern'] = pattern\n",
    "    gMask_opts['MAX_SIZE'] = MAX_SIZE\n",
    "    gMask_opts['fineSize'] = opt.fineSize\n",
    "    gMask_opts['maxPartition'] = maxPartition\n",
    "    gMask_opts['mask_global'] = mask_global\n",
    "    mask_global = util.create_gMask(gMask_opts) # create an initial random mask.   \n",
    "    return mask_global"
=======
   "execution_count": 600,
   "metadata": {},
   "outputs": [
    {
     "data": {
      "text/plain": [
       "tensor([[429],\n",
       "        [215],\n",
       "        [172],\n",
       "        [163],\n",
       "        [400],\n",
       "        [448],\n",
       "        [491],\n",
       "        [ 91],\n",
       "        [111],\n",
       "        [240],\n",
       "        [385],\n",
       "        [ 49],\n",
       "        [122],\n",
       "        [211],\n",
       "        [164],\n",
       "        [223],\n",
       "        [104],\n",
       "        [368],\n",
       "        [253],\n",
       "        [ 34],\n",
       "        [443],\n",
       "        [160],\n",
       "        [389],\n",
       "        [390],\n",
       "        [486],\n",
       "        [354],\n",
       "        [  7],\n",
       "        [379],\n",
       "        [123],\n",
       "        [371],\n",
       "        [449],\n",
       "        [258],\n",
       "        [168],\n",
       "        [217],\n",
       "        [368],\n",
       "        [285],\n",
       "        [ 25],\n",
       "        [179],\n",
       "        [240],\n",
       "        [139],\n",
       "        [209],\n",
       "        [224],\n",
       "        [198],\n",
       "        [239],\n",
       "        [490],\n",
       "        [ 61],\n",
       "        [289],\n",
       "        [260],\n",
       "        [478],\n",
       "        [497],\n",
       "        [385],\n",
       "        [359],\n",
       "        [309],\n",
       "        [110],\n",
       "        [227],\n",
       "        [235],\n",
       "        [ 70],\n",
       "        [352],\n",
       "        [ 12],\n",
       "        [434],\n",
       "        [470],\n",
       "        [145],\n",
       "        [297],\n",
       "        [501],\n",
       "        [444],\n",
       "        [388],\n",
       "        [491],\n",
       "        [437],\n",
       "        [463],\n",
       "        [395],\n",
       "        [355],\n",
       "        [313],\n",
       "        [197],\n",
       "        [ 25],\n",
       "        [438],\n",
       "        [224],\n",
       "        [510],\n",
       "        [433],\n",
       "        [203],\n",
       "        [306],\n",
       "        [  6],\n",
       "        [372],\n",
       "        [178],\n",
       "        [241],\n",
       "        [207],\n",
       "        [280],\n",
       "        [346],\n",
       "        [ 79],\n",
       "        [471],\n",
       "        [205],\n",
       "        [ 67],\n",
       "        [289],\n",
       "        [327],\n",
       "        [450],\n",
       "        [113],\n",
       "        [342],\n",
       "        [349],\n",
       "        [507],\n",
       "        [225],\n",
       "        [352],\n",
       "        [167],\n",
       "        [497],\n",
       "        [146],\n",
       "        [427],\n",
       "        [178],\n",
       "        [294],\n",
       "        [393],\n",
       "        [115],\n",
       "        [ 39],\n",
       "        [ 72],\n",
       "        [232],\n",
       "        [242],\n",
       "        [442],\n",
       "        [ 73],\n",
       "        [451],\n",
       "        [140],\n",
       "        [488],\n",
       "        [387],\n",
       "        [  2],\n",
       "        [476],\n",
       "        [240],\n",
       "        [114],\n",
       "        [444],\n",
       "        [233],\n",
       "        [173],\n",
       "        [ 50],\n",
       "        [170],\n",
       "        [188],\n",
       "        [225],\n",
       "        [355],\n",
       "        [483],\n",
       "        [273],\n",
       "        [168],\n",
       "        [344],\n",
       "        [ 56],\n",
       "        [249],\n",
       "        [388],\n",
       "        [431],\n",
       "        [257],\n",
       "        [ 92],\n",
       "        [ 59],\n",
       "        [ 28],\n",
       "        [ 16],\n",
       "        [499],\n",
       "        [229],\n",
       "        [233],\n",
       "        [115],\n",
       "        [352],\n",
       "        [  3],\n",
       "        [  4],\n",
       "        [241],\n",
       "        [350],\n",
       "        [ 33],\n",
       "        [170],\n",
       "        [ 77],\n",
       "        [ 65],\n",
       "        [298],\n",
       "        [118],\n",
       "        [319],\n",
       "        [107],\n",
       "        [401],\n",
       "        [346],\n",
       "        [508],\n",
       "        [362],\n",
       "        [217],\n",
       "        [494],\n",
       "        [317],\n",
       "        [204],\n",
       "        [ 52],\n",
       "        [ 39],\n",
       "        [323],\n",
       "        [269],\n",
       "        [484],\n",
       "        [261],\n",
       "        [447],\n",
       "        [435],\n",
       "        [166],\n",
       "        [188],\n",
       "        [181],\n",
       "        [466],\n",
       "        [241],\n",
       "        [350],\n",
       "        [ 89],\n",
       "        [293],\n",
       "        [297],\n",
       "        [251],\n",
       "        [ 37],\n",
       "        [263],\n",
       "        [500],\n",
       "        [ 28],\n",
       "        [331],\n",
       "        [278],\n",
       "        [ 29],\n",
       "        [ 72],\n",
       "        [493],\n",
       "        [277],\n",
       "        [ 13],\n",
       "        [106],\n",
       "        [ 59],\n",
       "        [195],\n",
       "        [367],\n",
       "        [ 99],\n",
       "        [ 36],\n",
       "        [187],\n",
       "        [193],\n",
       "        [ 44],\n",
       "        [ 68],\n",
       "        [145],\n",
       "        [213],\n",
       "        [203],\n",
       "        [197],\n",
       "        [511],\n",
       "        [422],\n",
       "        [303],\n",
       "        [ 74],\n",
       "        [280],\n",
       "        [ 23],\n",
       "        [107],\n",
       "        [361],\n",
       "        [451],\n",
       "        [305],\n",
       "        [259],\n",
       "        [  2],\n",
       "        [274],\n",
       "        [406],\n",
       "        [296],\n",
       "        [ 84],\n",
       "        [256],\n",
       "        [162],\n",
       "        [  0],\n",
       "        [112],\n",
       "        [322],\n",
       "        [ 99],\n",
       "        [468],\n",
       "        [416],\n",
       "        [ 40],\n",
       "        [265],\n",
       "        [351],\n",
       "        [276],\n",
       "        [ 20],\n",
       "        [  1],\n",
       "        [221],\n",
       "        [170],\n",
       "        [319],\n",
       "        [348],\n",
       "        [ 44],\n",
       "        [ 46],\n",
       "        [396],\n",
       "        [ 35],\n",
       "        [386],\n",
       "        [156],\n",
       "        [293],\n",
       "        [393],\n",
       "        [ 47],\n",
       "        [156],\n",
       "        [302],\n",
       "        [425],\n",
       "        [357],\n",
       "        [454],\n",
       "        [392],\n",
       "        [387],\n",
       "        [339],\n",
       "        [176],\n",
       "        [432],\n",
       "        [397],\n",
       "        [212],\n",
       "        [424],\n",
       "        [205],\n",
       "        [471],\n",
       "        [433],\n",
       "        [468],\n",
       "        [177],\n",
       "        [447],\n",
       "        [204],\n",
       "        [419],\n",
       "        [165],\n",
       "        [464],\n",
       "        [ 38],\n",
       "        [ 70],\n",
       "        [206],\n",
       "        [ 41],\n",
       "        [136],\n",
       "        [128],\n",
       "        [171],\n",
       "        [460],\n",
       "        [402],\n",
       "        [365],\n",
       "        [508],\n",
       "        [118],\n",
       "        [ 65],\n",
       "        [ 47],\n",
       "        [219],\n",
       "        [148],\n",
       "        [485],\n",
       "        [105],\n",
       "        [452],\n",
       "        [262],\n",
       "        [464],\n",
       "        [ 12],\n",
       "        [377],\n",
       "        [467],\n",
       "        [445],\n",
       "        [509],\n",
       "        [ 63],\n",
       "        [363],\n",
       "        [376],\n",
       "        [279],\n",
       "        [ 64],\n",
       "        [393],\n",
       "        [ 39],\n",
       "        [357],\n",
       "        [328],\n",
       "        [ 96],\n",
       "        [ 21],\n",
       "        [243],\n",
       "        [430],\n",
       "        [286],\n",
       "        [184],\n",
       "        [445],\n",
       "        [422],\n",
       "        [390],\n",
       "        [230],\n",
       "        [345],\n",
       "        [245],\n",
       "        [416],\n",
       "        [ 57],\n",
       "        [ 28],\n",
       "        [274],\n",
       "        [438],\n",
       "        [241],\n",
       "        [ 50],\n",
       "        [188],\n",
       "        [324],\n",
       "        [163],\n",
       "        [329],\n",
       "        [160],\n",
       "        [338],\n",
       "        [  3],\n",
       "        [374],\n",
       "        [143],\n",
       "        [ 90],\n",
       "        [392],\n",
       "        [ 25],\n",
       "        [ 99],\n",
       "        [208],\n",
       "        [ 62],\n",
       "        [ 52],\n",
       "        [ 19],\n",
       "        [341],\n",
       "        [415],\n",
       "        [508],\n",
       "        [483],\n",
       "        [507],\n",
       "        [474],\n",
       "        [268],\n",
       "        [ 47],\n",
       "        [419],\n",
       "        [443],\n",
       "        [423],\n",
       "        [459],\n",
       "        [241],\n",
       "        [ 76],\n",
       "        [304],\n",
       "        [288],\n",
       "        [492],\n",
       "        [481],\n",
       "        [328],\n",
       "        [ 81],\n",
       "        [450],\n",
       "        [476],\n",
       "        [156],\n",
       "        [496],\n",
       "        [155],\n",
       "        [134],\n",
       "        [497],\n",
       "        [212],\n",
       "        [297],\n",
       "        [394],\n",
       "        [335],\n",
       "        [398],\n",
       "        [455],\n",
       "        [188],\n",
       "        [ 87],\n",
       "        [182],\n",
       "        [494],\n",
       "        [260],\n",
       "        [248],\n",
       "        [372],\n",
       "        [424],\n",
       "        [ 85],\n",
       "        [ 57],\n",
       "        [ 54],\n",
       "        [166],\n",
       "        [287],\n",
       "        [ 40],\n",
       "        [263],\n",
       "        [ 83],\n",
       "        [506],\n",
       "        [429],\n",
       "        [402],\n",
       "        [319],\n",
       "        [326],\n",
       "        [131],\n",
       "        [228],\n",
       "        [159],\n",
       "        [346],\n",
       "        [435],\n",
       "        [137],\n",
       "        [332],\n",
       "        [356],\n",
       "        [260],\n",
       "        [ 26],\n",
       "        [134],\n",
       "        [369],\n",
       "        [ 64],\n",
       "        [495],\n",
       "        [259],\n",
       "        [343],\n",
       "        [446],\n",
       "        [444],\n",
       "        [183],\n",
       "        [ 53],\n",
       "        [412],\n",
       "        [374],\n",
       "        [120],\n",
       "        [351],\n",
       "        [170],\n",
       "        [ 16],\n",
       "        [125],\n",
       "        [435],\n",
       "        [159],\n",
       "        [488],\n",
       "        [ 99],\n",
       "        [488],\n",
       "        [ 71],\n",
       "        [330],\n",
       "        [116],\n",
       "        [345],\n",
       "        [188],\n",
       "        [139],\n",
       "        [404],\n",
       "        [506],\n",
       "        [336],\n",
       "        [375],\n",
       "        [287],\n",
       "        [ 12],\n",
       "        [297],\n",
       "        [164],\n",
       "        [374],\n",
       "        [233],\n",
       "        [ 32],\n",
       "        [389],\n",
       "        [280],\n",
       "        [136],\n",
       "        [127],\n",
       "        [231],\n",
       "        [ 51],\n",
       "        [496],\n",
       "        [443],\n",
       "        [483],\n",
       "        [401],\n",
       "        [352],\n",
       "        [361],\n",
       "        [111],\n",
       "        [326],\n",
       "        [433],\n",
       "        [241],\n",
       "        [  5],\n",
       "        [ 55],\n",
       "        [455],\n",
       "        [ 73],\n",
       "        [343],\n",
       "        [244],\n",
       "        [ 39],\n",
       "        [175],\n",
       "        [  6],\n",
       "        [ 40],\n",
       "        [ 16],\n",
       "        [395],\n",
       "        [471],\n",
       "        [215],\n",
       "        [150],\n",
       "        [ 50],\n",
       "        [228],\n",
       "        [436],\n",
       "        [223],\n",
       "        [341],\n",
       "        [347],\n",
       "        [447],\n",
       "        [211],\n",
       "        [217],\n",
       "        [ 93],\n",
       "        [423],\n",
       "        [223],\n",
       "        [139],\n",
       "        [341],\n",
       "        [242],\n",
       "        [189],\n",
       "        [ 23],\n",
       "        [ 67],\n",
       "        [176],\n",
       "        [ 82],\n",
       "        [139],\n",
       "        [377],\n",
       "        [ 25],\n",
       "        [140],\n",
       "        [ 66],\n",
       "        [220],\n",
       "        [189],\n",
       "        [ 32],\n",
       "        [371],\n",
       "        [437]], device='cuda:3')"
      ]
     },
     "execution_count": 600,
     "metadata": {},
     "output_type": "execute_result"
    }
   ],
   "source": [
    "f1 = (flag == 0).nonzero()[indexes]"
   ]
  },
  {
   "cell_type": "code",
   "execution_count": 584,
   "metadata": {},
   "outputs": [],
   "source": [
    "flag_n = flag"
>>>>>>> 439453a204adc778d810b527372b3bc8f5da692d
   ]
  },
  {
   "cell_type": "code",
<<<<<<< HEAD
   "execution_count": 21,
   "metadata": {},
   "outputs": [
    {
     "name": "stdout",
     "output_type": "stream",
     "text": [
      "CPU times: user 308 ms, sys: 4 ms, total: 312 ms\n",
      "Wall time: 38.3 ms\n"
     ]
    },
    {
     "name": "stderr",
     "output_type": "stream",
     "text": [
      "/home/tchaton/virtualenvs/labelbox/lib/python3.6/site-packages/torch/nn/functional.py:1890: UserWarning: nn.functional.upsample is deprecated. Use nn.functional.interpolate instead.\n",
      "  warnings.warn(\"nn.functional.upsample is deprecated. Use nn.functional.interpolate instead.\")\n",
      "/home/tchaton/virtualenvs/labelbox/lib/python3.6/site-packages/torch/nn/functional.py:1961: UserWarning: Default upsampling behavior when mode=bilinear is changed to align_corners=False since 0.4.0. Please specify align_corners=True if the old behavior is desired. See the documentation of nn.Upsample for details.\n",
      "  \"See the documentation of nn.Upsample for details.\".format(mode))\n"
     ]
    }
   ],
   "source": [
    "%time mask_global = create_random_mask(opt)"
=======
   "execution_count": 585,
   "metadata": {},
   "outputs": [],
   "source": [
    "idx = tuple((np.where(flag_n == 1), f1))"
   ]
  },
  {
   "cell_type": "code",
   "execution_count": 586,
   "metadata": {},
   "outputs": [],
   "source": [
    "transition_matrx[idx] = 1"
   ]
  },
  {
   "cell_type": "code",
   "execution_count": 587,
   "metadata": {},
   "outputs": [
    {
     "data": {
      "text/plain": [
       "<matplotlib.image.AxesImage at 0x7f9b0dee3668>"
      ]
     },
     "execution_count": 587,
     "metadata": {},
     "output_type": "execute_result"
    },
    {
     "data": {
      "image/png": "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\n",
      "text/plain": [
       "<Figure size 432x288 with 1 Axes>"
      ]
     },
     "metadata": {
      "needs_background": "light"
     },
     "output_type": "display_data"
    }
   ],
   "source": [
    "plt.imshow(transition_matrx)"
>>>>>>> 439453a204adc778d810b527372b3bc8f5da692d
   ]
  },
  {
   "cell_type": "code",
<<<<<<< HEAD
   "execution_count": 22,
=======
   "execution_count": 413,
>>>>>>> 439453a204adc778d810b527372b3bc8f5da692d
   "metadata": {},
   "outputs": [
    {
     "data": {
      "text/plain": [
<<<<<<< HEAD
       "torch.Size([1, 1, 256, 256])"
      ]
     },
     "execution_count": 22,
=======
       "(64, 1024, 960)"
      ]
     },
     "execution_count": 413,
>>>>>>> 439453a204adc778d810b527372b3bc8f5da692d
     "metadata": {},
     "output_type": "execute_result"
    }
   ],
   "source": [
<<<<<<< HEAD
    "mask_global.shape"
=======
    "tmp = tmp[:, cp]\n",
    "tmp.shape"
   ]
  },
  {
   "cell_type": "code",
   "execution_count": 412,
   "metadata": {},
   "outputs": [],
   "source": [
    "cp = np.where(flag == 0)[0][indexes][0] == flag"
>>>>>>> 439453a204adc778d810b527372b3bc8f5da692d
   ]
  },
  {
   "cell_type": "code",
<<<<<<< HEAD
   "execution_count": 23,
=======
   "execution_count": 405,
>>>>>>> 439453a204adc778d810b527372b3bc8f5da692d
   "metadata": {},
   "outputs": [
    {
     "data": {
      "text/plain": [
<<<<<<< HEAD
       "<matplotlib.image.AxesImage at 0x7fa0c9fee198>"
      ]
     },
     "execution_count": 23,
     "metadata": {},
     "output_type": "execute_result"
    },
    {
     "data": {
      "image/png": "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\n",
      "text/plain": [
       "<Figure size 432x288 with 1 Axes>"
      ]
     },
     "metadata": {
      "needs_background": "light"
     },
     "output_type": "display_data"
    }
   ],
   "source": [
    "plt.imshow(np.squeeze(mask_global))"
=======
       "tensor([732, 881, 809, 813, 333, 865,  60, 265, 848, 653, 611, 284,  88, 956,\n",
       "        773, 598, 437, 740, 308, 536, 517, 241, 898, 428, 257, 494, 287, 898,\n",
       "        618, 628, 779, 389, 122, 211, 164, 223, 104, 732, 253,  34, 843, 543,\n",
       "        289, 260, 454, 918, 385, 359, 919, 126, 203, 522,   6, 372, 490, 841,\n",
       "        723,  72, 651, 242, 710,  73, 608, 140], device='cuda:3')"
      ]
     },
     "execution_count": 405,
     "metadata": {},
     "output_type": "execute_result"
    }
   ],
   "source": [
    "indexes"
   ]
  },
  {
   "cell_type": "code",
   "execution_count": 391,
   "metadata": {},
   "outputs": [],
   "source": [
    "tmp[:, 0, indexes] = 1"
   ]
  },
  {
   "cell_type": "code",
   "execution_count": 396,
   "metadata": {},
   "outputs": [
    {
     "data": {
      "text/plain": [
       "3968.0"
      ]
     },
     "execution_count": 396,
     "metadata": {},
     "output_type": "execute_result"
    }
   ],
   "source": [
    "np.sum(tmp)"
>>>>>>> 439453a204adc778d810b527372b3bc8f5da692d
   ]
  },
  {
   "cell_type": "code",
<<<<<<< HEAD
   "execution_count": 24,
=======
   "execution_count": 397,
>>>>>>> 439453a204adc778d810b527372b3bc8f5da692d
   "metadata": {},
   "outputs": [
    {
     "data": {
      "text/plain": [
<<<<<<< HEAD
       "tensor([[[[0, 0, 0,  ..., 0, 0, 0],\n",
       "          [0, 0, 0,  ..., 0, 0, 0],\n",
       "          [0, 0, 0,  ..., 0, 0, 0],\n",
       "          ...,\n",
       "          [0, 0, 0,  ..., 0, 0, 0],\n",
       "          [0, 0, 0,  ..., 0, 0, 0],\n",
       "          [0, 0, 0,  ..., 0, 0, 0]]]], dtype=torch.uint8)"
      ]
     },
     "execution_count": 24,
=======
       "0.0"
      ]
     },
     "execution_count": 397,
>>>>>>> 439453a204adc778d810b527372b3bc8f5da692d
     "metadata": {},
     "output_type": "execute_result"
    }
   ],
   "source": [
<<<<<<< HEAD
    "mask_global"
=======
    "np.sum(transition_matrx)"
   ]
  },
  {
   "cell_type": "code",
   "execution_count": null,
   "metadata": {},
   "outputs": [],
   "source": [
    "torch.sum(flag)"
>>>>>>> 439453a204adc778d810b527372b3bc8f5da692d
   ]
  },
  {
   "cell_type": "code",
<<<<<<< HEAD
   "execution_count": 25,
=======
   "execution_count": 357,
>>>>>>> 439453a204adc778d810b527372b3bc8f5da692d
   "metadata": {},
   "outputs": [
    {
     "data": {
      "text/plain": [
<<<<<<< HEAD
       "tensor([[0, 0, 0,  ..., 0, 0, 0],\n",
       "        [0, 0, 0,  ..., 0, 0, 0],\n",
       "        [0, 0, 0,  ..., 0, 0, 0],\n",
       "        ...,\n",
       "        [0, 0, 0,  ..., 0, 0, 0],\n",
       "        [0, 1, 0,  ..., 0, 0, 0],\n",
       "        [0, 0, 0,  ..., 0, 0, 0]], dtype=torch.uint8)"
      ]
     },
     "execution_count": 25,
=======
       "tensor([501, 176, 230, 954, 370, 828, 848, 937, 346, 140, 227, 259, 303,  63,\n",
       "        813, 783, 163, 681, 181, 497, 242, 667, 758, 431, 888, 361, 725, 785,\n",
       "        103, 913, 251, 461, 368, 116, 930, 251,  56, 413, 598, 464, 250, 114,\n",
       "         10, 938, 709, 224, 634,  51, 910, 323, 248,  72, 290, 575,  14, 239,\n",
       "        817, 494, 530, 723, 475, 217, 599, 147], device='cuda:3')"
      ]
     },
     "execution_count": 357,
>>>>>>> 439453a204adc778d810b527372b3bc8f5da692d
     "metadata": {},
     "output_type": "execute_result"
    }
   ],
   "source": [
<<<<<<< HEAD
    "inner_shift_triple.set_mask(mask_global=mask_global, threshold=opt.threshold, layer_to_last=3)"
=======
    "indexes"
>>>>>>> 439453a204adc778d810b527372b3bc8f5da692d
   ]
  },
  {
   "cell_type": "code",
<<<<<<< HEAD
   "execution_count": 39,
   "metadata": {},
   "outputs": [
    {
     "name": "stdout",
     "output_type": "stream",
     "text": [
      "582 ms ± 38.6 ms per loop (mean ± std. dev. of 7 runs, 1 loop each)\n"
     ]
    }
   ],
   "source": [
=======
   "execution_count": null,
   "metadata": {},
   "outputs": [],
   "source": []
  },
  {
   "cell_type": "code",
   "execution_count": null,
   "metadata": {},
   "outputs": [],
   "source": []
  },
  {
   "cell_type": "code",
   "execution_count": null,
   "metadata": {},
   "outputs": [],
   "source": []
  },
  {
   "cell_type": "code",
   "execution_count": 316,
   "metadata": {},
   "outputs": [
    {
     "data": {
      "text/plain": [
       "torch.Size([1, 768, 32, 32])"
      ]
     },
     "execution_count": 316,
     "metadata": {},
     "output_type": "execute_result"
    }
   ],
   "source": [
    "output.shape"
   ]
  },
  {
   "cell_type": "code",
   "execution_count": null,
   "metadata": {},
   "outputs": [],
   "source": [
    "from util import util\n",
    "import torch.nn.functional as F"
   ]
  },
  {
   "cell_type": "code",
   "execution_count": null,
   "metadata": {},
   "outputs": [],
   "source": [
    "def create_random_mask(opt):\n",
    "    gMask_opts = {}\n",
    "    mask_global = torch.ByteTensor(1, 1, \\\n",
    "                                 opt.fineSize, opt.fineSize)\n",
    "\n",
    "        # Here we need to set an artificial mask_global(not to make it broken, so center hole is ok.)\n",
    "    mask_global.zero_()\n",
    "    mask_global[:, :, int(opt.fineSize/4) + opt.overlap : int(opt.fineSize/2) + int(opt.fineSize/4) - opt.overlap,\\\n",
    "                                int(opt.fineSize/4) + opt.overlap: int(opt.fineSize/2) + int(opt.fineSize/4) - opt.overlap] = 1  \n",
    "    \n",
    "    res = 0.06 # the lower it is, the more continuous the output will be. 0.01 is too small and 0.1 is too large\n",
    "    density = 0.25\n",
    "    MAX_SIZE = 300\n",
    "    maxPartition = 30\n",
    "    low_pattern = torch.rand(1, 1, int(res*MAX_SIZE), int(res*MAX_SIZE)).mul(255)\n",
    "    pattern = F.upsample(low_pattern, (MAX_SIZE, MAX_SIZE), mode='bilinear').data\n",
    "    low_pattern = None\n",
    "    pattern.div_(255)\n",
    "    pattern = torch.lt(pattern,density).byte()  # 25% 1s and 75% 0s\n",
    "    pattern = torch.squeeze(pattern).byte()\n",
    "    gMask_opts['pattern'] = pattern\n",
    "    gMask_opts['MAX_SIZE'] = MAX_SIZE\n",
    "    gMask_opts['fineSize'] = opt.fineSize\n",
    "    gMask_opts['maxPartition'] = maxPartition\n",
    "    gMask_opts['mask_global'] = mask_global\n",
    "    mask_global = util.create_gMask(gMask_opts) # create an initial random mask.   \n",
    "    return mask_global"
   ]
  },
  {
   "cell_type": "code",
   "execution_count": null,
   "metadata": {},
   "outputs": [],
   "source": [
    "%time mask_global = create_random_mask(opt)"
   ]
  },
  {
   "cell_type": "code",
   "execution_count": null,
   "metadata": {},
   "outputs": [],
   "source": [
    "mask_global.shape"
   ]
  },
  {
   "cell_type": "code",
   "execution_count": null,
   "metadata": {},
   "outputs": [],
   "source": [
    "plt.imshow(np.squeeze(mask_global))"
   ]
  },
  {
   "cell_type": "code",
   "execution_count": null,
   "metadata": {},
   "outputs": [],
   "source": [
    "mask_global"
   ]
  },
  {
   "cell_type": "code",
   "execution_count": null,
   "metadata": {},
   "outputs": [],
   "source": [
    "inner_shift_triple.set_mask(mask_global=mask_global, threshold=opt.threshold, layer_to_last=3)"
   ]
  },
  {
   "cell_type": "code",
   "execution_count": null,
   "metadata": {},
   "outputs": [],
   "source": [
>>>>>>> 439453a204adc778d810b527372b3bc8f5da692d
    "%timeit output = inner_shift_triple.forward(x_tr.cuda())"
   ]
  },
  {
   "cell_type": "markdown",
   "metadata": {},
   "source": [
    "# THE ENTIRE PROCESS IS PRETTY FAST, THE ISSUE WAS COMING FROM THE MASK GENERATOR"
   ]
  },
  {
   "cell_type": "markdown",
   "metadata": {},
   "source": [
    "# IMPLEMENT AN ACCELERATE MODULE"
   ]
  },
  {
   "cell_type": "code",
<<<<<<< HEAD
   "execution_count": 27,
=======
   "execution_count": null,
>>>>>>> 439453a204adc778d810b527372b3bc8f5da692d
   "metadata": {},
   "outputs": [],
   "source": [
    "opt = parser.opt\n",
    "opt.shift_sz = 1"
   ]
  },
  {
   "cell_type": "code",
<<<<<<< HEAD
   "execution_count": 30,
=======
   "execution_count": null,
>>>>>>> 439453a204adc778d810b527372b3bc8f5da692d
   "metadata": {},
   "outputs": [],
   "source": [
    "from models.accelerated_InnerShiftTriple import AcceleratedInnerShiftTriple\n",
<<<<<<< HEAD
    "modified_inner_shift_triple = AcceleratedInnerShiftTriple(opt.threshold, opt.fixed_mask)"
=======
    "acce_inner_shift_triple = AcceleratedInnerShiftTriple(opt.threshold, opt.fixed_mask)"
>>>>>>> 439453a204adc778d810b527372b3bc8f5da692d
   ]
  },
  {
   "cell_type": "code",
<<<<<<< HEAD
   "execution_count": 31,
   "metadata": {},
   "outputs": [
    {
     "data": {
      "text/plain": [
       "AcceleratedInnerShiftTriple(threshold: 0.3125 ,triple_weight 1)"
      ]
     },
     "execution_count": 31,
     "metadata": {},
     "output_type": "execute_result"
    }
   ],
   "source": [
    "modified_inner_shift_triple.cuda()"
=======
   "execution_count": null,
   "metadata": {},
   "outputs": [],
   "source": [
    "acce_inner_shift_triple.cuda()"
>>>>>>> 439453a204adc778d810b527372b3bc8f5da692d
   ]
  },
  {
   "cell_type": "code",
<<<<<<< HEAD
   "execution_count": 32,
   "metadata": {},
   "outputs": [
    {
     "data": {
      "text/plain": [
       "tensor([[0, 0, 0,  ..., 0, 0, 0],\n",
       "        [0, 0, 0,  ..., 0, 0, 0],\n",
       "        [0, 0, 0,  ..., 0, 0, 0],\n",
       "        ...,\n",
       "        [0, 0, 0,  ..., 0, 0, 0],\n",
       "        [0, 1, 0,  ..., 0, 0, 0],\n",
       "        [0, 0, 0,  ..., 0, 0, 0]], dtype=torch.uint8)"
      ]
     },
     "execution_count": 32,
     "metadata": {},
     "output_type": "execute_result"
    }
   ],
   "source": [
    "modified_inner_shift_triple.set_mask(mask_global=mask_global, threshold=opt.threshold, layer_to_last=3)"
=======
   "execution_count": null,
   "metadata": {},
   "outputs": [],
   "source": [
    "acce_inner_shift_triple.set_mask(mask_global=mask_global, threshold=opt.threshold, layer_to_last=3)"
>>>>>>> 439453a204adc778d810b527372b3bc8f5da692d
   ]
  },
  {
   "cell_type": "code",
<<<<<<< HEAD
   "execution_count": 33,
   "metadata": {},
   "outputs": [
    {
     "name": "stdout",
     "output_type": "stream",
     "text": [
      "155 ms ± 22.5 ms per loop (mean ± std. dev. of 7 runs, 1 loop each)\n"
     ]
    }
   ],
   "source": [
    "%timeit output = modified_inner_shift_triple(x_tr.cuda())"
=======
   "execution_count": null,
   "metadata": {},
   "outputs": [],
   "source": [
    "%timeit output = acce_inner_shift_triple(x_tr.cuda())"
>>>>>>> 439453a204adc778d810b527372b3bc8f5da692d
   ]
  },
  {
   "cell_type": "code",
<<<<<<< HEAD
   "execution_count": 41,
   "metadata": {},
   "outputs": [
    {
     "name": "stdout",
     "output_type": "stream",
     "text": [
      "THE SPEED UP IS 3.7548387096774194 FOLD\n"
     ]
    }
   ],
=======
   "execution_count": null,
   "metadata": {},
   "outputs": [],
   "source": [
    "acce_inner_shift_triple.__dict__"
   ]
  },
  {
   "cell_type": "code",
   "execution_count": null,
   "metadata": {},
   "outputs": [],
>>>>>>> 439453a204adc778d810b527372b3bc8f5da692d
   "source": [
    "print('THE SPEED UP IS {} FOLD'.format(582/155))"
   ]
  },
  {
   "cell_type": "code",
   "execution_count": null,
   "metadata": {},
   "outputs": [],
   "source": []
  }
 ],
 "metadata": {
  "kernelspec": {
   "display_name": "Python 3",
   "language": "python",
   "name": "python3"
  },
  "language_info": {
   "codemirror_mode": {
    "name": "ipython",
    "version": 3
   },
   "file_extension": ".py",
   "mimetype": "text/x-python",
   "name": "python",
   "nbconvert_exporter": "python",
   "pygments_lexer": "ipython3",
   "version": "3.6.4"
  }
 },
 "nbformat": 4,
 "nbformat_minor": 2
}
